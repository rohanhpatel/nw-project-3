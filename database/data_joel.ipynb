{
 "cells": [
  {
   "cell_type": "markdown",
   "metadata": {},
   "source": [
    "Import `Resources/haunted_places.csv` into a database named `nw-project-3` and a collection named `haunted-places` and then run the code below"
   ]
  },
  {
   "cell_type": "code",
   "execution_count": 54,
   "metadata": {},
   "outputs": [],
   "source": [
    "# Imports\n",
    "from pymongo import MongoClient\n",
    "from pprint import pprint\n",
    "import pandas as pd\n",
    "import matplotlib.pyplot as plt\n",
    "import re\n",
    "import seaborn as sns\n",
    "import squarify\n",
    "import numpy as np"
   ]
  },
  {
   "cell_type": "code",
   "execution_count": 14,
   "metadata": {},
   "outputs": [
    {
     "name": "stdout",
     "output_type": "stream",
     "text": [
      "['UNONOESNINGUNO', 'admin', 'config', 'local', 'nw-project-3', 'uk_food']\n"
     ]
    }
   ],
   "source": [
    "# Create instance of MongoClient\n",
    "client = MongoClient(port=27017)\n",
    "\n",
    "# List databases\n",
    "print(client.list_database_names())"
   ]
  },
  {
   "cell_type": "code",
   "execution_count": 15,
   "metadata": {},
   "outputs": [
    {
     "name": "stdout",
     "output_type": "stream",
     "text": [
      "['haunted-places']\n"
     ]
    }
   ],
   "source": [
    "# assign nw-project-3 database to db and list the collection names\n",
    "db = client['nw-project-3']\n",
    "print(db.list_collection_names())"
   ]
  },
  {
   "cell_type": "code",
   "execution_count": 16,
   "metadata": {},
   "outputs": [
    {
     "name": "stdout",
     "output_type": "stream",
     "text": [
      "{'_id': ObjectId('65275829fa10580601927e54'),\n",
      " 'city': 'Ada',\n",
      " 'city_latitude': 42.960727,\n",
      " 'city_longitude': -85.4954803,\n",
      " 'country': 'United States',\n",
      " 'description': 'Ada witch - Sometimes you can see a misty blue figure '\n",
      "                'floating within a 3-mile radius of the Ada Cemetery on 2 Mile '\n",
      "                'between Egypt Valley and Honey Creek. The story of her origin '\n",
      "                'is as follows: A man suspected his wife of having an affair, '\n",
      "                'so he followed her late one night when she thought he was '\n",
      "                'asleep. Sure enough, she went to a field near their property '\n",
      "                'where she met her lover. The husband was enraged and killed '\n",
      "                'his wife, which resulted in a struggle with the other man. '\n",
      "                'Both men died from their injuries. It is said that late at '\n",
      "                'night (especially during the night of and the nights '\n",
      "                'preceding a full moon) people driving by the field can see '\n",
      "                'her ghost, searching for her lover. Some people have reported '\n",
      "                'stopping to try to communicate with her, but she always '\n",
      "                'disappears or runs into the woods where she cannot be '\n",
      "                'followed (due to the thick brambles that inhabit the area). '\n",
      "                'She is said to dress in a long white gown which authorities '\n",
      "                'say dates her to the turn of the 20th century. Usually she is '\n",
      "                'seen alone, but sometimes witnesses report seeing a ghostly '\n",
      "                'death scene re-enacted... Others report seeing nothing at all '\n",
      "                \"but hearing the killer's shouts of rage followed by the \"\n",
      "                \"victims' screams of agony... Although it is said she haunts \"\n",
      "                'the field on Honeycreek Road where she died, other witnesses '\n",
      "                'have reported her in nearby Seidman Park, and in nearby '\n",
      "                'Findlay Cemetery, where she is supposedly buried. This story '\n",
      "                'was actually featured in the book \"Ghosts of Grand Rapids.\"',\n",
      " 'latitude': 42.9621061,\n",
      " 'location': 'Ada Cemetery',\n",
      " 'longitude': -85.50489309999999,\n",
      " 'state': 'Michigan',\n",
      " 'state_abbrev': 'MI'}\n"
     ]
    }
   ],
   "source": [
    "# print out an entry from haunted-places\n",
    "pprint(db['haunted-places'].find_one())"
   ]
  },
  {
   "cell_type": "code",
   "execution_count": 81,
   "metadata": {},
   "outputs": [
    {
     "data": {
      "text/html": [
       "<div>\n",
       "<style scoped>\n",
       "    .dataframe tbody tr th:only-of-type {\n",
       "        vertical-align: middle;\n",
       "    }\n",
       "\n",
       "    .dataframe tbody tr th {\n",
       "        vertical-align: top;\n",
       "    }\n",
       "\n",
       "    .dataframe thead th {\n",
       "        text-align: right;\n",
       "    }\n",
       "</style>\n",
       "<table border=\"1\" class=\"dataframe\">\n",
       "  <thead>\n",
       "    <tr style=\"text-align: right;\">\n",
       "      <th></th>\n",
       "      <th>_id</th>\n",
       "      <th>city</th>\n",
       "      <th>country</th>\n",
       "      <th>description</th>\n",
       "      <th>location</th>\n",
       "      <th>state</th>\n",
       "      <th>state_abbrev</th>\n",
       "      <th>longitude</th>\n",
       "      <th>latitude</th>\n",
       "      <th>city_longitude</th>\n",
       "      <th>city_latitude</th>\n",
       "    </tr>\n",
       "  </thead>\n",
       "  <tbody>\n",
       "    <tr>\n",
       "      <th>0</th>\n",
       "      <td>65275829fa10580601927e54</td>\n",
       "      <td>Ada</td>\n",
       "      <td>United States</td>\n",
       "      <td>Ada witch - Sometimes you can see a misty blue...</td>\n",
       "      <td>Ada Cemetery</td>\n",
       "      <td>Michigan</td>\n",
       "      <td>MI</td>\n",
       "      <td>-85.504893</td>\n",
       "      <td>42.962106</td>\n",
       "      <td>-85.495480</td>\n",
       "      <td>42.960727</td>\n",
       "    </tr>\n",
       "    <tr>\n",
       "      <th>1</th>\n",
       "      <td>65275829fa10580601927e55</td>\n",
       "      <td>Addison</td>\n",
       "      <td>United States</td>\n",
       "      <td>A little girl was killed suddenly while waitin...</td>\n",
       "      <td>North Adams Rd.</td>\n",
       "      <td>Michigan</td>\n",
       "      <td>MI</td>\n",
       "      <td>-84.381843</td>\n",
       "      <td>41.971425</td>\n",
       "      <td>-84.347168</td>\n",
       "      <td>41.986434</td>\n",
       "    </tr>\n",
       "    <tr>\n",
       "      <th>2</th>\n",
       "      <td>65275829fa10580601927e56</td>\n",
       "      <td>Adrian</td>\n",
       "      <td>United States</td>\n",
       "      <td>If you take Gorman Rd. west towards Sand Creek...</td>\n",
       "      <td>Ghost Trestle</td>\n",
       "      <td>Michigan</td>\n",
       "      <td>MI</td>\n",
       "      <td>-84.035656</td>\n",
       "      <td>41.904538</td>\n",
       "      <td>-84.037166</td>\n",
       "      <td>41.897547</td>\n",
       "    </tr>\n",
       "    <tr>\n",
       "      <th>3</th>\n",
       "      <td>65275829fa10580601927e57</td>\n",
       "      <td>Adrian</td>\n",
       "      <td>United States</td>\n",
       "      <td>In the 1970's, one room, room 211, in the old ...</td>\n",
       "      <td>Siena Heights University</td>\n",
       "      <td>Michigan</td>\n",
       "      <td>MI</td>\n",
       "      <td>-84.017565</td>\n",
       "      <td>41.905712</td>\n",
       "      <td>-84.037166</td>\n",
       "      <td>41.897547</td>\n",
       "    </tr>\n",
       "    <tr>\n",
       "      <th>4</th>\n",
       "      <td>65275829fa10580601927e58</td>\n",
       "      <td>Albion</td>\n",
       "      <td>United States</td>\n",
       "      <td>Kappa Delta Sorority - The Kappa Delta Sororit...</td>\n",
       "      <td>Albion College</td>\n",
       "      <td>Michigan</td>\n",
       "      <td>MI</td>\n",
       "      <td>-84.745177</td>\n",
       "      <td>42.244006</td>\n",
       "      <td>-84.753030</td>\n",
       "      <td>42.243097</td>\n",
       "    </tr>\n",
       "  </tbody>\n",
       "</table>\n",
       "</div>"
      ],
      "text/plain": [
       "                        _id     city        country  \\\n",
       "0  65275829fa10580601927e54      Ada  United States   \n",
       "1  65275829fa10580601927e55  Addison  United States   \n",
       "2  65275829fa10580601927e56   Adrian  United States   \n",
       "3  65275829fa10580601927e57   Adrian  United States   \n",
       "4  65275829fa10580601927e58   Albion  United States   \n",
       "\n",
       "                                         description  \\\n",
       "0  Ada witch - Sometimes you can see a misty blue...   \n",
       "1  A little girl was killed suddenly while waitin...   \n",
       "2  If you take Gorman Rd. west towards Sand Creek...   \n",
       "3  In the 1970's, one room, room 211, in the old ...   \n",
       "4  Kappa Delta Sorority - The Kappa Delta Sororit...   \n",
       "\n",
       "                   location     state state_abbrev  longitude   latitude  \\\n",
       "0              Ada Cemetery  Michigan           MI -85.504893  42.962106   \n",
       "1           North Adams Rd.  Michigan           MI -84.381843  41.971425   \n",
       "2             Ghost Trestle  Michigan           MI -84.035656  41.904538   \n",
       "3  Siena Heights University  Michigan           MI -84.017565  41.905712   \n",
       "4            Albion College  Michigan           MI -84.745177  42.244006   \n",
       "\n",
       "   city_longitude  city_latitude  \n",
       "0      -85.495480      42.960727  \n",
       "1      -84.347168      41.986434  \n",
       "2      -84.037166      41.897547  \n",
       "3      -84.037166      41.897547  \n",
       "4      -84.753030      42.243097  "
      ]
     },
     "execution_count": 81,
     "metadata": {},
     "output_type": "execute_result"
    }
   ],
   "source": [
    "cursor = db['haunted-places'].find()\n",
    "data_list = list(cursor)\n",
    "\n",
    "# Create a DataFrame from the list of dictionaries\n",
    "haunted_main = pd.DataFrame(data_list)\n",
    "\n",
    "# Now, 'df' contains all the data from the 'haunted-places' collection as a DataFrame\n",
    "haunted_main.head(5)"
   ]
  },
  {
   "cell_type": "code",
   "execution_count": 32,
   "metadata": {},
   "outputs": [
    {
     "data": {
      "image/png": "[encoded data removed]",
      "text/plain": [
       "<Figure size 640x480 with 1 Axes>"
      ]
     },
     "metadata": {},
     "output_type": "display_data"
    }
   ],
   "source": [
    "haunted_cities = haunted_main['city'].value_counts().head(10) #Only 10 the most 'haunted' cities\n",
    "plt.bar(haunted_cities.index, haunted_cities.values, color = 'lightblue')\n",
    "plt.xlabel('City')\n",
    "plt.ylabel('Count')\n",
    "plt.title('Count of cases per city')\n",
    "plt.xticks(rotation=45)\n",
    "\n",
    "for i, count in enumerate(types2.values):\n",
    "    plt.text(i, count +1, str(count), ha='center', va='bottom')\n",
    "plt.show()"
   ]
  },
  {
   "cell_type": "code",
   "execution_count": 34,
   "metadata": {},
   "outputs": [
    {
     "data": {
      "image/png": "[encoded data removed]",
      "text/plain": [
       "<Figure size 640x480 with 1 Axes>"
      ]
     },
     "metadata": {},
     "output_type": "display_data"
    }
   ],
   "source": [
    "haunted_states = haunted_main['state_abbrev'].value_counts().head(10) #Only 10 the most 'haunted' cities\n",
    "plt.bar(haunted_states.index, haunted_states.values, color = 'lightblue')\n",
    "plt.xlabel('haunted_states')\n",
    "plt.ylabel('Count')\n",
    "plt.title('Count of cases per state')\n",
    "plt.xticks(rotation=45)\n",
    "\n",
    "for i, count in enumerate(haunted_states.values):\n",
    "    plt.text(i, count +1, str(count), ha='center', va='bottom')\n",
    "plt.show()"
   ]
  },
  {
   "cell_type": "code",
   "execution_count": 78,
   "metadata": {},
   "outputs": [],
   "source": [
    "#haunted_main = haunted_main.drop(7924)\n"
   ]
  },
  {
   "cell_type": "code",
   "execution_count": 82,
   "metadata": {},
   "outputs": [
    {
     "data": {
      "text/html": [
       "<div>\n",
       "<style scoped>\n",
       "    .dataframe tbody tr th:only-of-type {\n",
       "        vertical-align: middle;\n",
       "    }\n",
       "\n",
       "    .dataframe tbody tr th {\n",
       "        vertical-align: top;\n",
       "    }\n",
       "\n",
       "    .dataframe thead th {\n",
       "        text-align: right;\n",
       "    }\n",
       "</style>\n",
       "<table border=\"1\" class=\"dataframe\">\n",
       "  <thead>\n",
       "    <tr style=\"text-align: right;\">\n",
       "      <th></th>\n",
       "      <th>_id</th>\n",
       "      <th>city</th>\n",
       "      <th>country</th>\n",
       "      <th>description</th>\n",
       "      <th>location</th>\n",
       "      <th>state</th>\n",
       "      <th>state_abbrev</th>\n",
       "      <th>longitude</th>\n",
       "      <th>latitude</th>\n",
       "      <th>city_longitude</th>\n",
       "      <th>city_latitude</th>\n",
       "      <th>place</th>\n",
       "    </tr>\n",
       "  </thead>\n",
       "  <tbody>\n",
       "    <tr>\n",
       "      <th>0</th>\n",
       "      <td>65275829fa10580601927e54</td>\n",
       "      <td>Ada</td>\n",
       "      <td>United States</td>\n",
       "      <td>Ada witch - Sometimes you can see a misty blue...</td>\n",
       "      <td>Ada Cemetery</td>\n",
       "      <td>Michigan</td>\n",
       "      <td>MI</td>\n",
       "      <td>-85.504893</td>\n",
       "      <td>42.962106</td>\n",
       "      <td>-85.495480</td>\n",
       "      <td>42.960727</td>\n",
       "      <td>Cemetery</td>\n",
       "    </tr>\n",
       "    <tr>\n",
       "      <th>1</th>\n",
       "      <td>65275829fa10580601927e55</td>\n",
       "      <td>Addison</td>\n",
       "      <td>United States</td>\n",
       "      <td>A little girl was killed suddenly while waitin...</td>\n",
       "      <td>North Adams Rd.</td>\n",
       "      <td>Michigan</td>\n",
       "      <td>MI</td>\n",
       "      <td>-84.381843</td>\n",
       "      <td>41.971425</td>\n",
       "      <td>-84.347168</td>\n",
       "      <td>41.986434</td>\n",
       "      <td>NaN</td>\n",
       "    </tr>\n",
       "    <tr>\n",
       "      <th>2</th>\n",
       "      <td>65275829fa10580601927e56</td>\n",
       "      <td>Adrian</td>\n",
       "      <td>United States</td>\n",
       "      <td>If you take Gorman Rd. west towards Sand Creek...</td>\n",
       "      <td>Ghost Trestle</td>\n",
       "      <td>Michigan</td>\n",
       "      <td>MI</td>\n",
       "      <td>-84.035656</td>\n",
       "      <td>41.904538</td>\n",
       "      <td>-84.037166</td>\n",
       "      <td>41.897547</td>\n",
       "      <td>Trestle</td>\n",
       "    </tr>\n",
       "    <tr>\n",
       "      <th>3</th>\n",
       "      <td>65275829fa10580601927e57</td>\n",
       "      <td>Adrian</td>\n",
       "      <td>United States</td>\n",
       "      <td>In the 1970's, one room, room 211, in the old ...</td>\n",
       "      <td>Siena Heights University</td>\n",
       "      <td>Michigan</td>\n",
       "      <td>MI</td>\n",
       "      <td>-84.017565</td>\n",
       "      <td>41.905712</td>\n",
       "      <td>-84.037166</td>\n",
       "      <td>41.897547</td>\n",
       "      <td>University</td>\n",
       "    </tr>\n",
       "    <tr>\n",
       "      <th>4</th>\n",
       "      <td>65275829fa10580601927e58</td>\n",
       "      <td>Albion</td>\n",
       "      <td>United States</td>\n",
       "      <td>Kappa Delta Sorority - The Kappa Delta Sororit...</td>\n",
       "      <td>Albion College</td>\n",
       "      <td>Michigan</td>\n",
       "      <td>MI</td>\n",
       "      <td>-84.745177</td>\n",
       "      <td>42.244006</td>\n",
       "      <td>-84.753030</td>\n",
       "      <td>42.243097</td>\n",
       "      <td>College</td>\n",
       "    </tr>\n",
       "  </tbody>\n",
       "</table>\n",
       "</div>"
      ],
      "text/plain": [
       "                        _id     city        country  \\\n",
       "0  65275829fa10580601927e54      Ada  United States   \n",
       "1  65275829fa10580601927e55  Addison  United States   \n",
       "2  65275829fa10580601927e56   Adrian  United States   \n",
       "3  65275829fa10580601927e57   Adrian  United States   \n",
       "4  65275829fa10580601927e58   Albion  United States   \n",
       "\n",
       "                                         description  \\\n",
       "0  Ada witch - Sometimes you can see a misty blue...   \n",
       "1  A little girl was killed suddenly while waitin...   \n",
       "2  If you take Gorman Rd. west towards Sand Creek...   \n",
       "3  In the 1970's, one room, room 211, in the old ...   \n",
       "4  Kappa Delta Sorority - The Kappa Delta Sororit...   \n",
       "\n",
       "                   location     state state_abbrev  longitude   latitude  \\\n",
       "0              Ada Cemetery  Michigan           MI -85.504893  42.962106   \n",
       "1           North Adams Rd.  Michigan           MI -84.381843  41.971425   \n",
       "2             Ghost Trestle  Michigan           MI -84.035656  41.904538   \n",
       "3  Siena Heights University  Michigan           MI -84.017565  41.905712   \n",
       "4            Albion College  Michigan           MI -84.745177  42.244006   \n",
       "\n",
       "   city_longitude  city_latitude       place  \n",
       "0      -85.495480      42.960727    Cemetery  \n",
       "1      -84.347168      41.986434         NaN  \n",
       "2      -84.037166      41.897547     Trestle  \n",
       "3      -84.037166      41.897547  University  \n",
       "4      -84.753030      42.243097     College  "
      ]
     },
     "execution_count": 82,
     "metadata": {},
     "output_type": "execute_result"
    }
   ],
   "source": [
    "haunted_main['place'] = haunted_main['location'].str.extract(r'([a-zA-Z]+)\\s*$')\n",
    "\n",
    "# Replace 'inn' with 'hotel' in the 'place' column\n",
    "haunted_main['place'] = haunted_main['place'].str.replace('inn', 'hotel', case=False)\n",
    "haunted_main.head ()"
   ]
  },
  {
   "cell_type": "code",
   "execution_count": 80,
   "metadata": {},
   "outputs": [
    {
     "data": {
      "text/html": [
       "<div>\n",
       "<style scoped>\n",
       "    .dataframe tbody tr th:only-of-type {\n",
       "        vertical-align: middle;\n",
       "    }\n",
       "\n",
       "    .dataframe tbody tr th {\n",
       "        vertical-align: top;\n",
       "    }\n",
       "\n",
       "    .dataframe thead th {\n",
       "        text-align: right;\n",
       "    }\n",
       "</style>\n",
       "<table border=\"1\" class=\"dataframe\">\n",
       "  <thead>\n",
       "    <tr style=\"text-align: right;\">\n",
       "      <th></th>\n",
       "      <th>_id</th>\n",
       "      <th>city</th>\n",
       "      <th>country</th>\n",
       "      <th>description</th>\n",
       "      <th>location</th>\n",
       "      <th>state</th>\n",
       "      <th>state_abbrev</th>\n",
       "      <th>longitude</th>\n",
       "      <th>latitude</th>\n",
       "      <th>city_longitude</th>\n",
       "      <th>city_latitude</th>\n",
       "      <th>place</th>\n",
       "    </tr>\n",
       "  </thead>\n",
       "  <tbody>\n",
       "  </tbody>\n",
       "</table>\n",
       "</div>"
      ],
      "text/plain": [
       "Empty DataFrame\n",
       "Columns: [_id, city, country, description, location, state, state_abbrev, longitude, latitude, city_longitude, city_latitude, place]\n",
       "Index: []"
      ]
     },
     "execution_count": 80,
     "metadata": {},
     "output_type": "execute_result"
    }
   ],
   "source": [
    "haunted_main['place']=haunted_main['location'].str.split().str[-1]\n",
    "haunted_main['place'] = haunted_main['place'].apply(lambda word: re.sub(r'[^a-zA-Z]', '', word) if pd.notnull(word) else '') #Removing non-letter characters from the last position using regular expression\n",
    "haunted_main['place'] = haunted_main['place'].str.replace('inn', 'hotel')\n",
    "haunted_main.head()"
   ]
  },
  {
   "cell_type": "code",
   "execution_count": 83,
   "metadata": {},
   "outputs": [
    {
     "name": "stdout",
     "output_type": "stream",
     "text": [
      "0           Cemetery\n",
      "1                NaN\n",
      "2            Trestle\n",
      "3         University\n",
      "4            College\n",
      "            ...     \n",
      "10987           hall\n",
      "10988           Fire\n",
      "10989    Institution\n",
      "10990         School\n",
      "10991         Forest\n",
      "Name: place, Length: 10992, dtype: object\n"
     ]
    }
   ],
   "source": [
    "print(haunted_main['place'])"
   ]
  },
  {
   "cell_type": "code",
   "execution_count": 89,
   "metadata": {},
   "outputs": [
    {
     "data": {
      "text/plain": [
       "place\n",
       "School        921\n",
       "Cemetery      620\n",
       "House         367\n",
       "College       324\n",
       "University    315\n",
       "Road          302\n",
       "hotel         247\n",
       "Park          246\n",
       "Hotel         210\n",
       "Bridge        182\n",
       "Hospital      165\n",
       "Church        130\n",
       "Center        130\n",
       "Mansion       121\n",
       "school        118\n",
       "Theater        96\n",
       "Restaurant     90\n",
       "Hall           87\n",
       "Theatre        87\n",
       "Hill           83\n",
       "Building       80\n",
       "cemetery       77\n",
       "Museum         76\n",
       "Elementary     75\n",
       "Street         66\n",
       "Home           66\n",
       "Lake           60\n",
       "Library        58\n",
       "Club           53\n",
       "house          49\n",
       "Name: count, dtype: int64"
      ]
     },
     "execution_count": 89,
     "metadata": {},
     "output_type": "execute_result"
    }
   ],
   "source": [
    "place_counts = haunted_main['place'].value_counts()\n",
    "place_counts. head (30)"
   ]
  },
  {
   "cell_type": "code",
   "execution_count": 86,
   "metadata": {},
   "outputs": [
    {
     "data": {
      "text/plain": [
       "place\n",
       "School           8.778953\n",
       "Cemetery         5.909827\n",
       "House            3.498237\n",
       "College          3.088361\n",
       "University       3.002574\n",
       "                   ...   \n",
       "Middlesbrough    0.009532\n",
       "Beachwood        0.009532\n",
       "Sunoco           0.009532\n",
       "Anderson         0.009532\n",
       "Fire             0.009532\n",
       "Name: count, Length: 1945, dtype: float64"
      ]
     },
     "execution_count": 86,
     "metadata": {},
     "output_type": "execute_result"
    }
   ],
   "source": [
    "total_count = place_counts.sum()\n",
    "place_percentages = (place_counts / total_count) * 100\n",
    "place_percentages"
   ]
  },
  {
   "cell_type": "code",
   "execution_count": 115,
   "metadata": {},
   "outputs": [],
   "source": [
    "merge_dict = {\n",
    "    'school': 'Schools',\n",
    "    'School': 'Schools',\n",
    "    'High': 'Schools',\n",
    "    'university': 'Schools',\n",
    "    'University': 'Schools',\n",
    "    'college': 'Schools',\n",
    "    'College': 'Schools',\n",
    "    'Elementary': 'Schools',  \n",
    "    'elementary': 'Schools',\n",
    "    'Academy': 'Schools',\n",
    "    'Cementeries': 'Cementeries',\n",
    "    'cemetery': 'Cementeries',  \n",
    "    'Cemetery': 'Cementeries', \n",
    "    'Graveyard': 'Cementeries',\n",
    "    'House': 'Houses',\n",
    "    'Apartments': 'Houses',\n",
    "    'home': 'Houses',\n",
    "    'Mansion': 'Houses',\n",
    "    'Home': 'Houses',\n",
    "    'house':'Houses',\n",
    "    'Road': 'Roads',\n",
    "    'road': 'Roads',\n",
    "    'Street':'Roads',\n",
    "    'Rd': 'Roads',\n",
    "    'hotel':'Hotels',\n",
    "    'Hotel':'Hotels',\n",
    "}\n",
    "haunted_main['place_merge'] = haunted_main['place'].replace(merge_dict)\n"
   ]
  },
  {
   "cell_type": "code",
   "execution_count": 116,
   "metadata": {},
   "outputs": [
    {
     "data": {
      "text/plain": [
       "place_merge\n",
       "Schools        1854\n",
       "Cementeries     736\n",
       "Houses          653\n",
       "Hotels          457\n",
       "Roads           451\n",
       "Park            246\n",
       "Bridge          182\n",
       "Hospital        165\n",
       "Center          130\n",
       "Church          130\n",
       "Theater          96\n",
       "Restaurant       90\n",
       "Hall             87\n",
       "Theatre          87\n",
       "Hill             83\n",
       "Building         80\n",
       "Museum           76\n",
       "Lake             60\n",
       "Library          58\n",
       "Club             53\n",
       "Auditorium       39\n",
       "bridge           39\n",
       "Plantation       35\n",
       "s                35\n",
       "County           35\n",
       "Tavern           34\n",
       "Creek            34\n",
       "Mountain         32\n",
       "Castle           31\n",
       "Station          30\n",
       "Tracks           29\n",
       "River            29\n",
       "Woods            29\n",
       "Hollow           28\n",
       "Mall             27\n",
       "Mill             27\n",
       "park             26\n",
       "Lodge            26\n",
       "Asylum           26\n",
       "Island           23\n",
       "Base             23\n",
       "Manor            23\n",
       "building         23\n",
       "Place            22\n",
       "Store            22\n",
       "Breakfast        22\n",
       "county           21\n",
       "Beach            21\n",
       "tracks           21\n",
       "Prison           21\n",
       "Name: count, dtype: int64"
      ]
     },
     "execution_count": 116,
     "metadata": {},
     "output_type": "execute_result"
    }
   ],
   "source": [
    "place_counts_2 = haunted_main['place_merge'].value_counts()\n",
    "place_counts_2.head (50)"
   ]
  },
  {
   "cell_type": "code",
   "execution_count": 117,
   "metadata": {},
   "outputs": [
    {
     "data": {
      "image/png": "[encoded data removed]",
      "text/plain": [
       "<Figure size 1000x600 with 1 Axes>"
      ]
     },
     "metadata": {},
     "output_type": "display_data"
    }
   ],
   "source": [
    "top_10_places = place_counts_2.head(10)\n",
    "top_10_places.plot(kind='bar', figsize=(10, 6), color='skyblue')\n",
    "plt.title('Top 10 Merged Place Categories', fontsize=16, weight='bold')\n",
    "plt.xlabel('Place Categories', fontsize=14)\n",
    "plt.ylabel('Count', fontsize=14)\n",
    "plt.xticks(rotation=45)  # Rotate x-axis labels for better visibility\n",
    "plt.show()"
   ]
  }
 ],
 "metadata": {
  "kernelspec": {
   "display_name": "Python 3 (ipykernel)",
   "language": "python",
   "name": "python3"
  },
  "language_info": {
   "codemirror_mode": {
    "name": "ipython",
    "version": 3
   },
   "file_extension": ".py",
   "mimetype": "text/x-python",
   "name": "python",
   "nbconvert_exporter": "python",
   "pygments_lexer": "ipython3",
   "version": "3.10.9"
  }
 },
 "nbformat": 4,
 "nbformat_minor": 4
}
