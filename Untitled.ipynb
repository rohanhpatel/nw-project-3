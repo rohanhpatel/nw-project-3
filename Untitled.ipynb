{
 "cells": [
  {
   "cell_type": "code",
   "execution_count": null,
   "id": "2685da48-9e1e-45ea-b391-8ac5a408ae06",
   "metadata": {},
   "outputs": [],
   "source": [
    "# this is gonna be fun, all fun. \n"
   ]
  },
  {
   "cell_type": "code",
   "execution_count": null,
   "id": "83fff0d8-1b58-4bfc-a6ee-6eec1256d24f",
   "metadata": {},
   "outputs": [],
   "source": []
  }
 ],
 "metadata": {
  "kernelspec": {
   "display_name": "Python 3 (ipykernel)",
   "language": "python",
   "name": "python3"
  },
  "language_info": {
   "codemirror_mode": {
    "name": "ipython",
    "version": 3
   },
   "file_extension": ".py",
   "mimetype": "text/x-python",
   "name": "python",
   "nbconvert_exporter": "python",
   "pygments_lexer": "ipython3",
   "version": "3.10.9"
  }
 },
 "nbformat": 4,
 "nbformat_minor": 5
}
