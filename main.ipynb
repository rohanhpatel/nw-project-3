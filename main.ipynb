{
 "cells": [
  {
   "cell_type": "markdown",
   "metadata": {},
   "source": [
    "Import `Resources/haunted_places.csv` into a database named `nw-project-3` and a collection named `haunted-places` and then run the code below"
   ]
  },
  {
   "cell_type": "code",
   "execution_count": 1,
   "metadata": {},
   "outputs": [],
   "source": [
    "# Imports\n",
    "from pymongo import MongoClient\n",
    "from pprint import pprint"
   ]
  },
  {
   "cell_type": "code",
   "execution_count": 4,
   "metadata": {},
   "outputs": [
    {
     "name": "stdout",
     "output_type": "stream",
     "text": [
      "['admin', 'config', 'local', 'nw-project-3', 'uk_food']\n"
     ]
    }
   ],
   "source": [
    "# Create instance of MongoClient\n",
    "client = MongoClient(port=27017)\n",
    "\n",
    "# List databases\n",
    "print(client.list_database_names())"
   ]
  },
  {
   "cell_type": "code",
   "execution_count": 8,
   "metadata": {},
   "outputs": [
    {
     "name": "stdout",
     "output_type": "stream",
     "text": [
      "['haunted-places']\n"
     ]
    }
   ],
   "source": [
    "# assign nw-project-3 database to db and list the collection names\n",
    "db = client['nw-project-3']\n",
    "print(db.list_collection_names())"
   ]
  },
  {
   "cell_type": "code",
   "execution_count": 11,
   "metadata": {},
   "outputs": [
    {
     "name": "stdout",
     "output_type": "stream",
     "text": [
      "{'_id': ObjectId('6527433259278181ca86aaaa'),\n",
      " 'city': 'Ada',\n",
      " 'city_latitude': 42.960727,\n",
      " 'city_longitude': -85.4954803,\n",
      " 'country': 'United States',\n",
      " 'description': 'Ada witch - Sometimes you can see a misty blue figure '\n",
      "                'floating within a 3-mile radius of the Ada Cemetery on 2 Mile '\n",
      "                'between Egypt Valley and Honey Creek. The story of her origin '\n",
      "                'is as follows: A man suspected his wife of having an affair, '\n",
      "                'so he followed her late one night when she thought he was '\n",
      "                'asleep. Sure enough, she went to a field near their property '\n",
      "                'where she met her lover. The husband was enraged and killed '\n",
      "                'his wife, which resulted in a struggle with the other man. '\n",
      "                'Both men died from their injuries. It is said that late at '\n",
      "                'night (especially during the night of and the nights '\n",
      "                'preceding a full moon) people driving by the field can see '\n",
      "                'her ghost, searching for her lover. Some people have reported '\n",
      "                'stopping to try to communicate with her, but she always '\n",
      "                'disappears or runs into the woods where she cannot be '\n",
      "                'followed (due to the thick brambles that inhabit the area). '\n",
      "                'She is said to dress in a long white gown which authorities '\n",
      "                'say dates her to the turn of the 20th century. Usually she is '\n",
      "                'seen alone, but sometimes witnesses report seeing a ghostly '\n",
      "                'death scene re-enacted... Others report seeing nothing at all '\n",
      "                \"but hearing the killer's shouts of rage followed by the \"\n",
      "                \"victims' screams of agony... Although it is said she haunts \"\n",
      "                'the field on Honeycreek Road where she died, other witnesses '\n",
      "                'have reported her in nearby Seidman Park, and in nearby '\n",
      "                'Findlay Cemetery, where she is supposedly buried. This story '\n",
      "                'was actually featured in the book \"Ghosts of Grand Rapids.\"',\n",
      " 'latitude': 42.9621061,\n",
      " 'location': 'Ada Cemetery',\n",
      " 'longitude': -85.50489309999999,\n",
      " 'state': 'Michigan',\n",
      " 'state_abbrev': 'MI'}\n"
     ]
    }
   ],
   "source": [
    "# print out an entry from haunted-places\n",
    "pprint(db['haunted-places'].find_one())"
   ]
  }
 ],
 "metadata": {
  "kernelspec": {
   "display_name": "base",
   "language": "python",
   "name": "python3"
  },
  "language_info": {
   "codemirror_mode": {
    "name": "ipython",
    "version": 3
   },
   "file_extension": ".py",
   "mimetype": "text/x-python",
   "name": "python",
   "nbconvert_exporter": "python",
   "pygments_lexer": "ipython3",
   "version": "3.10.9"
  }
 },
 "nbformat": 4,
 "nbformat_minor": 2
}
